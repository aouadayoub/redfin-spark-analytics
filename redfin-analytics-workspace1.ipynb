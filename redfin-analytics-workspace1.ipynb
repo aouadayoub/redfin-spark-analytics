{
 "cells": [
  {
   "cell_type": "code",
   "execution_count": 1,
   "metadata": {
    "execution": {
     "iopub.execute_input": "2024-09-04T16:17:58.595610Z",
     "iopub.status.busy": "2024-09-04T16:17:58.595302Z",
     "iopub.status.idle": "2024-09-04T16:18:34.249377Z",
     "shell.execute_reply": "2024-09-04T16:18:34.248797Z",
     "shell.execute_reply.started": "2024-09-04T16:17:58.595583Z"
    }
   },
   "outputs": [
    {
     "data": {
      "application/vnd.jupyter.widget-view+json": {
       "model_id": "07672e14afbf46e8a4f4893a2db65edc",
       "version_major": 2,
       "version_minor": 0
      },
      "text/plain": [
       "VBox()"
      ]
     },
     "metadata": {},
     "output_type": "display_data"
    },
    {
     "name": "stdout",
     "output_type": "stream",
     "text": [
      "Starting Spark application\n"
     ]
    },
    {
     "data": {
      "text/html": [
       "<table>\n<tbody><tr><th>ID</th><th>YARN Application ID</th><th>Kind</th><th>State</th><th>Spark UI</th><th>Driver log</th><th>User</th><th>Current session?</th></tr><tr><td>1</td><td>application_1725462091605_0002</td><td>pyspark</td><td>idle</td><td><a target=\"_blank\" href=\"http://ip-10-0-12-118.eu-west-3.compute.internal:20888/proxy/application_1725462091605_0002/\" class=\"emr-proxy-link j-2XA5CVWNTIKRM application_1725462091605_0002\" emr-resource=\"j-2XA5CVWNTIKRM\n\" application-id=\"application_1725462091605_0002\">Link</a></td><td><a target=\"_blank\" href=\"http://ip-10-0-2-68.eu-west-3.compute.internal:8042/node/containerlogs/container_1725462091605_0002_01_000001/livy\">Link</a></td><td>None</td><td>✔</td></tr></tbody></table>"
      ],
      "text/plain": [
       "<IPython.core.display.HTML object>"
      ]
     },
     "metadata": {},
     "output_type": "display_data"
    },
    {
     "data": {
      "application/vnd.jupyter.widget-view+json": {
       "model_id": "",
       "version_major": 2,
       "version_minor": 0
      },
      "text/plain": [
       "FloatProgress(value=0.0, bar_style='info', description='Progress:', layout=Layout(height='25px', width='50%'),…"
      ]
     },
     "metadata": {},
     "output_type": "display_data"
    },
    {
     "name": "stdout",
     "output_type": "stream",
     "text": [
      "SparkSession available as 'spark'.\n"
     ]
    },
    {
     "data": {
      "application/vnd.jupyter.widget-view+json": {
       "model_id": "",
       "version_major": 2,
       "version_minor": 0
      },
      "text/plain": [
       "FloatProgress(value=0.0, bar_style='info', description='Progress:', layout=Layout(height='25px', width='50%'),…"
      ]
     },
     "metadata": {},
     "output_type": "display_data"
    }
   ],
   "source": [
    "from pyspark.sql import SparkSession\n",
    "from pyspark.sql.functions import col"
   ]
  },
  {
   "cell_type": "code",
   "execution_count": 3,
   "metadata": {
    "execution": {
     "iopub.execute_input": "2024-09-04T16:23:26.988560Z",
     "iopub.status.busy": "2024-09-04T16:23:26.988318Z",
     "iopub.status.idle": "2024-09-04T16:23:27.040700Z",
     "shell.execute_reply": "2024-09-04T16:23:27.040035Z",
     "shell.execute_reply.started": "2024-09-04T16:23:26.988535Z"
    },
    "tags": []
   },
   "outputs": [
    {
     "data": {
      "application/vnd.jupyter.widget-view+json": {
       "model_id": "2fca383063fa4e37b93104c5760dc855",
       "version_major": 2,
       "version_minor": 0
      },
      "text/plain": [
       "VBox()"
      ]
     },
     "metadata": {},
     "output_type": "display_data"
    },
    {
     "data": {
      "application/vnd.jupyter.widget-view+json": {
       "model_id": "",
       "version_major": 2,
       "version_minor": 0
      },
      "text/plain": [
       "FloatProgress(value=0.0, bar_style='info', description='Progress:', layout=Layout(height='25px', width='50%'),…"
      ]
     },
     "metadata": {},
     "output_type": "display_data"
    }
   ],
   "source": [
    "spark = SparkSession.builder.appName(\"RedfinDataAnalysis\").getOrCreate()"
   ]
  },
  {
   "cell_type": "code",
   "execution_count": 4,
   "metadata": {
    "execution": {
     "iopub.execute_input": "2024-09-04T16:24:11.379689Z",
     "iopub.status.busy": "2024-09-04T16:24:11.379466Z",
     "iopub.status.idle": "2024-09-04T16:26:07.019159Z",
     "shell.execute_reply": "2024-09-04T16:26:07.018481Z",
     "shell.execute_reply.started": "2024-09-04T16:24:11.379664Z"
    },
    "tags": []
   },
   "outputs": [
    {
     "data": {
      "application/vnd.jupyter.widget-view+json": {
       "model_id": "16146bb13f964f39872df82279c7cf41",
       "version_major": 2,
       "version_minor": 0
      },
      "text/plain": [
       "VBox()"
      ]
     },
     "metadata": {},
     "output_type": "display_data"
    },
    {
     "data": {
      "application/vnd.jupyter.widget-view+json": {
       "model_id": "",
       "version_major": 2,
       "version_minor": 0
      },
      "text/plain": [
       "FloatProgress(value=0.0, bar_style='info', description='Progress:', layout=Layout(height='25px', width='50%'),…"
      ]
     },
     "metadata": {},
     "output_type": "display_data"
    }
   ],
   "source": [
    "redfin_data = spark.read.csv(\"s3://rawdata-redfin/city_market_tracker.tsv000.gz\", header=True, inferSchema=True, sep= \"\\t\")"
   ]
  },
  {
   "cell_type": "code",
   "execution_count": 6,
   "metadata": {
    "execution": {
     "iopub.execute_input": "2024-09-04T16:43:15.423144Z",
     "iopub.status.busy": "2024-09-04T16:43:15.422912Z",
     "iopub.status.idle": "2024-09-04T16:43:30.737486Z",
     "shell.execute_reply": "2024-09-04T16:43:30.736750Z",
     "shell.execute_reply.started": "2024-09-04T16:43:15.423117Z"
    }
   },
   "outputs": [
    {
     "data": {
      "application/vnd.jupyter.widget-view+json": {
       "model_id": "2eb9aef2baef4a8ca5425203b3325b27",
       "version_major": 2,
       "version_minor": 0
      },
      "text/plain": [
       "VBox()"
      ]
     },
     "metadata": {},
     "output_type": "display_data"
    },
    {
     "data": {
      "application/vnd.jupyter.widget-view+json": {
       "model_id": "",
       "version_major": 2,
       "version_minor": 0
      },
      "text/plain": [
       "FloatProgress(value=0.0, bar_style='info', description='Progress:', layout=Layout(height='25px', width='50%'),…"
      ]
     },
     "metadata": {},
     "output_type": "display_data"
    },
    {
     "name": "stdout",
     "output_type": "stream",
     "text": [
      "+------------+----------+---------------+-----------+--------------+--------+----------------------+--------------+----------+----------+----------+--------------------+----------------+-----------------+---------------------+---------------------+-----------------+---------------------+---------------------+-----------------+--------------------+--------------------+------------------+--------------------+--------------------+----------+--------------+--------------+-------------+-----------------+-----------------+------------+------------------+------------------+---------+-------------------+-------------------+----------------+--------------------+--------------------+----------+--------------+--------------+------------------+--------------------+--------------------+---------------+-------------------+-------------------+-----------+---------------+--------------------+-----------------------+---------------------------+---------------------------+-------------------+------------------------------+-------------------+\n",
      "|period_begin|period_end|period_duration|region_type|region_type_id|table_id|is_seasonally_adjusted|        region|      city|     state|state_code|       property_type|property_type_id|median_sale_price|median_sale_price_mom|median_sale_price_yoy|median_list_price|median_list_price_mom|median_list_price_yoy|      median_ppsf|     median_ppsf_mom|     median_ppsf_yoy|  median_list_ppsf|median_list_ppsf_mom|median_list_ppsf_yoy|homes_sold|homes_sold_mom|homes_sold_yoy|pending_sales|pending_sales_mom|pending_sales_yoy|new_listings|  new_listings_mom|  new_listings_yoy|inventory|      inventory_mom|      inventory_yoy|months_of_supply|months_of_supply_mom|months_of_supply_yoy|median_dom|median_dom_mom|median_dom_yoy|  avg_sale_to_list|avg_sale_to_list_mom|avg_sale_to_list_yoy|sold_above_list|sold_above_list_mom|sold_above_list_yoy|price_drops|price_drops_mom|     price_drops_yoy|off_market_in_two_weeks|off_market_in_two_weeks_mom|off_market_in_two_weeks_yoy|parent_metro_region|parent_metro_region_metro_code|       last_updated|\n",
      "+------------+----------+---------------+-----------+--------------+--------+----------------------+--------------+----------+----------+----------+--------------------+----------------+-----------------+---------------------+---------------------+-----------------+---------------------+---------------------+-----------------+--------------------+--------------------+------------------+--------------------+--------------------+----------+--------------+--------------+-------------+-----------------+-----------------+------------+------------------+------------------+---------+-------------------+-------------------+----------------+--------------------+--------------------+----------+--------------+--------------+------------------+--------------------+--------------------+---------------+-------------------+-------------------+-----------+---------------+--------------------+-----------------------+---------------------------+---------------------------+-------------------+------------------------------+-------------------+\n",
      "|  2019-07-01|2019-07-31|             30|      place|             6|   30088|                     f|  Elbridge, NY|  Elbridge|  New York|        NY|Single Family Res...|               6|         152000.0|  -0.2284263959390863| -0.02124919510624601|         110000.0|  -0.6716417910447761| -0.40508382909680907|96.08091024020227|-0.08113484826121276|-0.17963112055049446|119.04761904761905|-0.05899076048329...| 0.06368622206962615|         1|           0.0|           0.0|            2|              1.0|              0.0|           1|               0.0|              -0.5|        4|0.33333333333333326|0.33333333333333326|             4.0|                 1.0|                 1.0|        10|           -35|           -72|1.0140093395597065| 0.02851659318651989|-0.02132399377362...|            1.0|                1.0|                0.0|       NULL|           NULL|                NULL|                    0.5|                       -0.5|                        0.0|       Syracuse, NY|                         45060|2024-08-14 14:22:06|\n",
      "|  2012-01-01|2012-01-31|             30|      place|             6|   12354|                     f|    Maumee, OH|    Maumee|      Ohio|        OH|Single Family Res...|               6|          75605.0| -0.11779463243873978| -0.04236858771374...|         105950.0|  0.24793875147232036| -0.07789382071366402|55.33251770348885|  -0.253696626359197| -0.2343989369026398|  85.6356627274051|  0.4038633234000837| 0.04071478535912587|         6|        -0.625|           0.0|            6|             -0.6|              0.0|          22|0.8333333333333333|0.8333333333333333|       89| 0.1558441558441559|0.14102564102564097|            14.8|                10.0|  1.8000000000000007|        80|           -17|           -82|0.9176568335043046|7.419759684497151E-4|-0.00289225103826...|            0.0|                0.0|                0.0|       NULL|           NULL|                NULL|                    0.0|                        0.0|                        0.0|         Toledo, OH|                         45780|2024-08-14 14:22:06|\n",
      "|  2013-12-01|2013-12-31|             30|      place|             6|   21905|                     f|Clear Lake, WA|Clear Lake|Washington|        WA|     All Residential|              -1|         205250.0|                 NULL|   -0.457010582010582|             NULL|                 NULL|                 NULL|136.6287398635156|                NULL| 0.28243060591469127|              NULL|                NULL|                NULL|         2|          NULL|           1.0|            2|             NULL|              0.0|        NULL|              NULL|              NULL|        5|               NULL|               0.25|             2.5|                NULL|                -1.5|       166|          NULL|           -32|0.9260305719246913|                NULL|-0.01920573715257...|            0.5|               NULL|                0.5|        0.2|           NULL|-0.04999999999999999|                    0.0|                       NULL|                        0.0|   Mount Vernon, WA|                         34580|2024-08-14 14:22:06|\n",
      "+------------+----------+---------------+-----------+--------------+--------+----------------------+--------------+----------+----------+----------+--------------------+----------------+-----------------+---------------------+---------------------+-----------------+---------------------+---------------------+-----------------+--------------------+--------------------+------------------+--------------------+--------------------+----------+--------------+--------------+-------------+-----------------+-----------------+------------+------------------+------------------+---------+-------------------+-------------------+----------------+--------------------+--------------------+----------+--------------+--------------+------------------+--------------------+--------------------+---------------+-------------------+-------------------+-----------+---------------+--------------------+-----------------------+---------------------------+---------------------------+-------------------+------------------------------+-------------------+\n",
      "only showing top 3 rows"
     ]
    }
   ],
   "source": [
    "redfin_data.show(3)"
   ]
  },
  {
   "cell_type": "code",
   "execution_count": 7,
   "metadata": {
    "execution": {
     "iopub.execute_input": "2024-09-04T16:52:41.561912Z",
     "iopub.status.busy": "2024-09-04T16:52:41.561689Z",
     "iopub.status.idle": "2024-09-04T16:52:41.607517Z",
     "shell.execute_reply": "2024-09-04T16:52:41.606865Z",
     "shell.execute_reply.started": "2024-09-04T16:52:41.561886Z"
    }
   },
   "outputs": [
    {
     "data": {
      "application/vnd.jupyter.widget-view+json": {
       "model_id": "b7c31354f04f486fa5132c80517f7448",
       "version_major": 2,
       "version_minor": 0
      },
      "text/plain": [
       "VBox()"
      ]
     },
     "metadata": {},
     "output_type": "display_data"
    },
    {
     "data": {
      "application/vnd.jupyter.widget-view+json": {
       "model_id": "",
       "version_major": 2,
       "version_minor": 0
      },
      "text/plain": [
       "FloatProgress(value=0.0, bar_style='info', description='Progress:', layout=Layout(height='25px', width='50%'),…"
      ]
     },
     "metadata": {},
     "output_type": "display_data"
    },
    {
     "name": "stdout",
     "output_type": "stream",
     "text": [
      "root\n",
      " |-- period_begin: date (nullable = true)\n",
      " |-- period_end: date (nullable = true)\n",
      " |-- period_duration: integer (nullable = true)\n",
      " |-- region_type: string (nullable = true)\n",
      " |-- region_type_id: integer (nullable = true)\n",
      " |-- table_id: integer (nullable = true)\n",
      " |-- is_seasonally_adjusted: string (nullable = true)\n",
      " |-- region: string (nullable = true)\n",
      " |-- city: string (nullable = true)\n",
      " |-- state: string (nullable = true)\n",
      " |-- state_code: string (nullable = true)\n",
      " |-- property_type: string (nullable = true)\n",
      " |-- property_type_id: integer (nullable = true)\n",
      " |-- median_sale_price: double (nullable = true)\n",
      " |-- median_sale_price_mom: double (nullable = true)\n",
      " |-- median_sale_price_yoy: double (nullable = true)\n",
      " |-- median_list_price: double (nullable = true)\n",
      " |-- median_list_price_mom: double (nullable = true)\n",
      " |-- median_list_price_yoy: double (nullable = true)\n",
      " |-- median_ppsf: double (nullable = true)\n",
      " |-- median_ppsf_mom: double (nullable = true)\n",
      " |-- median_ppsf_yoy: double (nullable = true)\n",
      " |-- median_list_ppsf: double (nullable = true)\n",
      " |-- median_list_ppsf_mom: double (nullable = true)\n",
      " |-- median_list_ppsf_yoy: double (nullable = true)\n",
      " |-- homes_sold: integer (nullable = true)\n",
      " |-- homes_sold_mom: double (nullable = true)\n",
      " |-- homes_sold_yoy: double (nullable = true)\n",
      " |-- pending_sales: integer (nullable = true)\n",
      " |-- pending_sales_mom: double (nullable = true)\n",
      " |-- pending_sales_yoy: double (nullable = true)\n",
      " |-- new_listings: integer (nullable = true)\n",
      " |-- new_listings_mom: double (nullable = true)\n",
      " |-- new_listings_yoy: double (nullable = true)\n",
      " |-- inventory: integer (nullable = true)\n",
      " |-- inventory_mom: double (nullable = true)\n",
      " |-- inventory_yoy: double (nullable = true)\n",
      " |-- months_of_supply: double (nullable = true)\n",
      " |-- months_of_supply_mom: double (nullable = true)\n",
      " |-- months_of_supply_yoy: double (nullable = true)\n",
      " |-- median_dom: integer (nullable = true)\n",
      " |-- median_dom_mom: integer (nullable = true)\n",
      " |-- median_dom_yoy: integer (nullable = true)\n",
      " |-- avg_sale_to_list: double (nullable = true)\n",
      " |-- avg_sale_to_list_mom: double (nullable = true)\n",
      " |-- avg_sale_to_list_yoy: double (nullable = true)\n",
      " |-- sold_above_list: double (nullable = true)\n",
      " |-- sold_above_list_mom: double (nullable = true)\n",
      " |-- sold_above_list_yoy: double (nullable = true)\n",
      " |-- price_drops: double (nullable = true)\n",
      " |-- price_drops_mom: double (nullable = true)\n",
      " |-- price_drops_yoy: double (nullable = true)\n",
      " |-- off_market_in_two_weeks: double (nullable = true)\n",
      " |-- off_market_in_two_weeks_mom: double (nullable = true)\n",
      " |-- off_market_in_two_weeks_yoy: double (nullable = true)\n",
      " |-- parent_metro_region: string (nullable = true)\n",
      " |-- parent_metro_region_metro_code: integer (nullable = true)\n",
      " |-- last_updated: timestamp (nullable = true)"
     ]
    }
   ],
   "source": [
    "#Check the schema\n",
    "redfin_data.printSchema()"
   ]
  },
  {
   "cell_type": "code",
   "execution_count": 8,
   "metadata": {
    "execution": {
     "iopub.execute_input": "2024-09-04T16:52:56.740023Z",
     "iopub.status.busy": "2024-09-04T16:52:56.739789Z",
     "iopub.status.idle": "2024-09-04T16:52:56.991501Z",
     "shell.execute_reply": "2024-09-04T16:52:56.990844Z",
     "shell.execute_reply.started": "2024-09-04T16:52:56.739993Z"
    }
   },
   "outputs": [
    {
     "data": {
      "application/vnd.jupyter.widget-view+json": {
       "model_id": "3e38c8f09cba4b1fbfeee2ab300785ef",
       "version_major": 2,
       "version_minor": 0
      },
      "text/plain": [
       "VBox()"
      ]
     },
     "metadata": {},
     "output_type": "display_data"
    },
    {
     "data": {
      "application/vnd.jupyter.widget-view+json": {
       "model_id": "",
       "version_major": 2,
       "version_minor": 0
      },
      "text/plain": [
       "FloatProgress(value=0.0, bar_style='info', description='Progress:', layout=Layout(height='25px', width='50%'),…"
      ]
     },
     "metadata": {},
     "output_type": "display_data"
    },
    {
     "name": "stdout",
     "output_type": "stream",
     "text": [
      "['period_begin', 'period_end', 'period_duration', 'region_type', 'region_type_id', 'table_id', 'is_seasonally_adjusted', 'region', 'city', 'state', 'state_code', 'property_type', 'property_type_id', 'median_sale_price', 'median_sale_price_mom', 'median_sale_price_yoy', 'median_list_price', 'median_list_price_mom', 'median_list_price_yoy', 'median_ppsf', 'median_ppsf_mom', 'median_ppsf_yoy', 'median_list_ppsf', 'median_list_ppsf_mom', 'median_list_ppsf_yoy', 'homes_sold', 'homes_sold_mom', 'homes_sold_yoy', 'pending_sales', 'pending_sales_mom', 'pending_sales_yoy', 'new_listings', 'new_listings_mom', 'new_listings_yoy', 'inventory', 'inventory_mom', 'inventory_yoy', 'months_of_supply', 'months_of_supply_mom', 'months_of_supply_yoy', 'median_dom', 'median_dom_mom', 'median_dom_yoy', 'avg_sale_to_list', 'avg_sale_to_list_mom', 'avg_sale_to_list_yoy', 'sold_above_list', 'sold_above_list_mom', 'sold_above_list_yoy', 'price_drops', 'price_drops_mom', 'price_drops_yoy', 'off_market_in_two_weeks', 'off_market_in_two_weeks_mom', 'off_market_in_two_weeks_yoy', 'parent_metro_region', 'parent_metro_region_metro_code', 'last_updated']"
     ]
    }
   ],
   "source": [
    "#print column names\n",
    "redfin_data.columns"
   ]
  },
  {
   "cell_type": "code",
   "execution_count": 9,
   "metadata": {
    "execution": {
     "iopub.execute_input": "2024-09-04T16:54:28.075319Z",
     "iopub.status.busy": "2024-09-04T16:54:28.075097Z",
     "iopub.status.idle": "2024-09-04T16:54:37.365400Z",
     "shell.execute_reply": "2024-09-04T16:54:37.364738Z",
     "shell.execute_reply.started": "2024-09-04T16:54:28.075295Z"
    },
    "tags": []
   },
   "outputs": [
    {
     "data": {
      "application/vnd.jupyter.widget-view+json": {
       "model_id": "29e9f3620d004068b8f155ab85ad970e",
       "version_major": 2,
       "version_minor": 0
      },
      "text/plain": [
       "VBox()"
      ]
     },
     "metadata": {},
     "output_type": "display_data"
    },
    {
     "data": {
      "application/vnd.jupyter.widget-view+json": {
       "model_id": "",
       "version_major": 2,
       "version_minor": 0
      },
      "text/plain": [
       "FloatProgress(value=0.0, bar_style='info', description='Progress:', layout=Layout(height='25px', width='50%'),…"
      ]
     },
     "metadata": {},
     "output_type": "display_data"
    },
    {
     "name": "stdout",
     "output_type": "stream",
     "text": [
      "+----------+---------------+----------+----------+--------------------+-----------------+-----------------+----------+---------+----------------+----------+---------------+-------------------+\n",
      "|period_end|period_duration|      city|     state|       property_type|median_sale_price|      median_ppsf|homes_sold|inventory|months_of_supply|median_dom|sold_above_list|       last_updated|\n",
      "+----------+---------------+----------+----------+--------------------+-----------------+-----------------+----------+---------+----------------+----------+---------------+-------------------+\n",
      "|2019-07-31|             30|  Elbridge|  New York|Single Family Res...|         152000.0|96.08091024020227|         1|        4|             4.0|        10|            1.0|2024-08-14 14:22:06|\n",
      "|2012-01-31|             30|    Maumee|      Ohio|Single Family Res...|          75605.0|55.33251770348885|         6|       89|            14.8|        80|            0.0|2024-08-14 14:22:06|\n",
      "|2013-12-31|             30|Clear Lake|Washington|     All Residential|         205250.0|136.6287398635156|         2|        5|             2.5|       166|            0.5|2024-08-14 14:22:06|\n",
      "+----------+---------------+----------+----------+--------------------+-----------------+-----------------+----------+---------+----------------+----------+---------------+-------------------+\n",
      "only showing top 3 rows"
     ]
    }
   ],
   "source": [
    "df_redfin = redfin_data.select(['period_end','period_duration', 'city', 'state', 'property_type',\n",
    "    'median_sale_price', 'median_ppsf', 'homes_sold', 'inventory', 'months_of_supply', 'median_dom', 'sold_above_list', 'last_updated'])\n",
    "df_redfin.show(3)"
   ]
  },
  {
   "cell_type": "code",
   "execution_count": 10,
   "metadata": {
    "execution": {
     "iopub.execute_input": "2024-09-04T16:59:31.668398Z",
     "iopub.status.busy": "2024-09-04T16:59:31.668174Z",
     "iopub.status.idle": "2024-09-04T17:00:05.035263Z",
     "shell.execute_reply": "2024-09-04T17:00:05.034500Z",
     "shell.execute_reply.started": "2024-09-04T16:59:31.668373Z"
    },
    "tags": []
   },
   "outputs": [
    {
     "data": {
      "application/vnd.jupyter.widget-view+json": {
       "model_id": "8bda7da569844e0aae8d174dc8365720",
       "version_major": 2,
       "version_minor": 0
      },
      "text/plain": [
       "VBox()"
      ]
     },
     "metadata": {},
     "output_type": "display_data"
    },
    {
     "data": {
      "application/vnd.jupyter.widget-view+json": {
       "model_id": "",
       "version_major": 2,
       "version_minor": 0
      },
      "text/plain": [
       "FloatProgress(value=0.0, bar_style='info', description='Progress:', layout=Layout(height='25px', width='50%'),…"
      ]
     },
     "metadata": {},
     "output_type": "display_data"
    },
    {
     "name": "stdout",
     "output_type": "stream",
     "text": [
      "Total number of rows: 5522511"
     ]
    }
   ],
   "source": [
    "#check total number of rows\n",
    "print(f\"Total number of rows: {df_redfin.count()}\")"
   ]
  },
  {
   "cell_type": "code",
   "execution_count": 11,
   "metadata": {
    "execution": {
     "iopub.execute_input": "2024-09-04T17:02:09.490227Z",
     "iopub.status.busy": "2024-09-04T17:02:09.489992Z",
     "iopub.status.idle": "2024-09-04T17:10:10.157648Z",
     "shell.execute_reply": "2024-09-04T17:10:10.156968Z",
     "shell.execute_reply.started": "2024-09-04T17:02:09.490202Z"
    },
    "tags": []
   },
   "outputs": [
    {
     "data": {
      "application/vnd.jupyter.widget-view+json": {
       "model_id": "b8c16801c9c74c29b1a7a54a368c3df7",
       "version_major": 2,
       "version_minor": 0
      },
      "text/plain": [
       "VBox()"
      ]
     },
     "metadata": {},
     "output_type": "display_data"
    },
    {
     "data": {
      "application/vnd.jupyter.widget-view+json": {
       "model_id": "",
       "version_major": 2,
       "version_minor": 0
      },
      "text/plain": [
       "FloatProgress(value=0.0, bar_style='info', description='Progress:', layout=Layout(height='25px', width='50%'),…"
      ]
     },
     "metadata": {},
     "output_type": "display_data"
    },
    {
     "name": "stdout",
     "output_type": "stream",
     "text": [
      "[0, 0, 0, 0, 0, 6187, 72370, 5761, 444284, 365221, 70762, 37380, 0]"
     ]
    }
   ],
   "source": [
    "from pyspark.sql.functions import isnull\n",
    "# Count null values in each column\n",
    "null_counts = [df_redfin.where(isnull(col_name)).count() for col_name in df_redfin.columns]\n",
    "null_counts"
   ]
  },
  {
   "cell_type": "code",
   "execution_count": 12,
   "metadata": {
    "execution": {
     "iopub.execute_input": "2024-09-04T17:11:37.002105Z",
     "iopub.status.busy": "2024-09-04T17:11:37.001855Z",
     "iopub.status.idle": "2024-09-04T17:11:37.043885Z",
     "shell.execute_reply": "2024-09-04T17:11:37.043313Z",
     "shell.execute_reply.started": "2024-09-04T17:11:37.002078Z"
    }
   },
   "outputs": [
    {
     "data": {
      "application/vnd.jupyter.widget-view+json": {
       "model_id": "f2a90b4a662d427480165676f960e1b7",
       "version_major": 2,
       "version_minor": 0
      },
      "text/plain": [
       "VBox()"
      ]
     },
     "metadata": {},
     "output_type": "display_data"
    },
    {
     "data": {
      "application/vnd.jupyter.widget-view+json": {
       "model_id": "",
       "version_major": 2,
       "version_minor": 0
      },
      "text/plain": [
       "FloatProgress(value=0.0, bar_style='info', description='Progress:', layout=Layout(height='25px', width='50%'),…"
      ]
     },
     "metadata": {},
     "output_type": "display_data"
    },
    {
     "name": "stdout",
     "output_type": "stream",
     "text": [
      "period_end: 0 null values\n",
      "period_duration: 0 null values\n",
      "city: 0 null values\n",
      "state: 0 null values\n",
      "property_type: 0 null values\n",
      "median_sale_price: 6187 null values\n",
      "median_ppsf: 72370 null values\n",
      "homes_sold: 5761 null values\n",
      "inventory: 444284 null values\n",
      "months_of_supply: 365221 null values\n",
      "median_dom: 70762 null values\n",
      "sold_above_list: 37380 null values\n",
      "last_updated: 0 null values"
     ]
    }
   ],
   "source": [
    "# Display the results\n",
    "for i, col_name in enumerate(df_redfin.columns):\n",
    "    print(f\"{col_name}: {null_counts[i]} null values\")"
   ]
  },
  {
   "cell_type": "code",
   "execution_count": 13,
   "metadata": {
    "execution": {
     "iopub.execute_input": "2024-09-04T17:11:44.614611Z",
     "iopub.status.busy": "2024-09-04T17:11:44.614359Z",
     "iopub.status.idle": "2024-09-04T17:13:04.085409Z",
     "shell.execute_reply": "2024-09-04T17:13:04.084708Z",
     "shell.execute_reply.started": "2024-09-04T17:11:44.614579Z"
    },
    "tags": []
   },
   "outputs": [
    {
     "data": {
      "application/vnd.jupyter.widget-view+json": {
       "model_id": "3e8e8cd879d949248033b9514edbb18e",
       "version_major": 2,
       "version_minor": 0
      },
      "text/plain": [
       "VBox()"
      ]
     },
     "metadata": {},
     "output_type": "display_data"
    },
    {
     "data": {
      "application/vnd.jupyter.widget-view+json": {
       "model_id": "",
       "version_major": 2,
       "version_minor": 0
      },
      "text/plain": [
       "FloatProgress(value=0.0, bar_style='info', description='Progress:', layout=Layout(height='25px', width='50%'),…"
      ]
     },
     "metadata": {},
     "output_type": "display_data"
    },
    {
     "name": "stdout",
     "output_type": "stream",
     "text": [
      "Number of missing rows: 535888"
     ]
    }
   ],
   "source": [
    "# Check for missing values in the entire DataFrame\n",
    "remaining_count = df_redfin.na.drop().count()\n",
    "\n",
    "print(f\"Number of missing rows: {df_redfin.count() - remaining_count}\")"
   ]
  },
  {
   "cell_type": "code",
   "execution_count": 15,
   "metadata": {
    "execution": {
     "iopub.execute_input": "2024-09-04T17:13:10.770052Z",
     "iopub.status.busy": "2024-09-04T17:13:10.769822Z",
     "iopub.status.idle": "2024-09-04T17:13:10.822874Z",
     "shell.execute_reply": "2024-09-04T17:13:10.821995Z",
     "shell.execute_reply.started": "2024-09-04T17:13:10.770021Z"
    },
    "tags": []
   },
   "outputs": [
    {
     "data": {
      "application/vnd.jupyter.widget-view+json": {
       "model_id": "07383ebca4fa481dbdf5e17c997775b9",
       "version_major": 2,
       "version_minor": 0
      },
      "text/plain": [
       "VBox()"
      ]
     },
     "metadata": {},
     "output_type": "display_data"
    },
    {
     "data": {
      "application/vnd.jupyter.widget-view+json": {
       "model_id": "",
       "version_major": 2,
       "version_minor": 0
      },
      "text/plain": [
       "FloatProgress(value=0.0, bar_style='info', description='Progress:', layout=Layout(height='25px', width='50%'),…"
      ]
     },
     "metadata": {},
     "output_type": "display_data"
    },
    {
     "name": "stdout",
     "output_type": "stream",
     "text": [
      "Total number of remaining rows: 4986623"
     ]
    }
   ],
   "source": [
    "print(f\"Total number of remaining rows: {remaining_count}\")"
   ]
  },
  {
   "cell_type": "code",
   "execution_count": 16,
   "metadata": {
    "execution": {
     "iopub.execute_input": "2024-09-04T17:13:12.867039Z",
     "iopub.status.busy": "2024-09-04T17:13:12.866791Z",
     "iopub.status.idle": "2024-09-04T17:14:04.253614Z",
     "shell.execute_reply": "2024-09-04T17:14:04.252913Z",
     "shell.execute_reply.started": "2024-09-04T17:13:12.866987Z"
    },
    "tags": []
   },
   "outputs": [
    {
     "data": {
      "application/vnd.jupyter.widget-view+json": {
       "model_id": "aa7560b13bff44ce8f2d4fdb7a228fb0",
       "version_major": 2,
       "version_minor": 0
      },
      "text/plain": [
       "VBox()"
      ]
     },
     "metadata": {},
     "output_type": "display_data"
    },
    {
     "data": {
      "application/vnd.jupyter.widget-view+json": {
       "model_id": "",
       "version_major": 2,
       "version_minor": 0
      },
      "text/plain": [
       "FloatProgress(value=0.0, bar_style='info', description='Progress:', layout=Layout(height='25px', width='50%'),…"
      ]
     },
     "metadata": {},
     "output_type": "display_data"
    },
    {
     "name": "stdout",
     "output_type": "stream",
     "text": [
      "Total number of rows: 4986623"
     ]
    }
   ],
   "source": [
    "#remove na and count total number of remaining rows\n",
    "df_redfin = df_redfin.na.drop()\n",
    "print(f\"Total number of rows: {df_redfin.count()}\")"
   ]
  },
  {
   "cell_type": "code",
   "execution_count": 19,
   "metadata": {
    "execution": {
     "iopub.execute_input": "2024-09-04T17:49:56.925487Z",
     "iopub.status.busy": "2024-09-04T17:49:56.925263Z",
     "iopub.status.idle": "2024-09-04T18:01:14.109970Z",
     "shell.execute_reply": "2024-09-04T18:01:14.109168Z",
     "shell.execute_reply.started": "2024-09-04T17:49:56.925464Z"
    },
    "tags": []
   },
   "outputs": [
    {
     "data": {
      "application/vnd.jupyter.widget-view+json": {
       "model_id": "2cb14b785289496cb9651979372e6886",
       "version_major": 2,
       "version_minor": 0
      },
      "text/plain": [
       "VBox()"
      ]
     },
     "metadata": {},
     "output_type": "display_data"
    },
    {
     "data": {
      "application/vnd.jupyter.widget-view+json": {
       "model_id": "",
       "version_major": 2,
       "version_minor": 0
      },
      "text/plain": [
       "FloatProgress(value=0.0, bar_style='info', description='Progress:', layout=Layout(height='25px', width='50%'),…"
      ]
     },
     "metadata": {},
     "output_type": "display_data"
    },
    {
     "name": "stdout",
     "output_type": "stream",
     "text": [
      "[0, 0, 0, 0, 0, 0, 0, 0, 0, 0, 0, 0, 0, 0, 0]"
     ]
    }
   ],
   "source": [
    "# Count null values in each column to confirm if we have removed all na\n",
    "null_counts = [df_redfin.where(isnull(col_name)).count() for col_name in df_redfin.columns]\n",
    "null_counts"
   ]
  },
  {
   "cell_type": "code",
   "execution_count": 20,
   "metadata": {
    "execution": {
     "iopub.execute_input": "2024-09-04T18:06:37.221062Z",
     "iopub.status.busy": "2024-09-04T18:06:37.220807Z",
     "iopub.status.idle": "2024-09-04T18:06:37.470199Z",
     "shell.execute_reply": "2024-09-04T18:06:37.469442Z",
     "shell.execute_reply.started": "2024-09-04T18:06:37.221032Z"
    },
    "tags": []
   },
   "outputs": [
    {
     "data": {
      "application/vnd.jupyter.widget-view+json": {
       "model_id": "3cc59a8d1c6142a1804eae6315de932a",
       "version_major": 2,
       "version_minor": 0
      },
      "text/plain": [
       "VBox()"
      ]
     },
     "metadata": {},
     "output_type": "display_data"
    },
    {
     "data": {
      "application/vnd.jupyter.widget-view+json": {
       "model_id": "",
       "version_major": 2,
       "version_minor": 0
      },
      "text/plain": [
       "FloatProgress(value=0.0, bar_style='info', description='Progress:', layout=Layout(height='25px', width='50%'),…"
      ]
     },
     "metadata": {},
     "output_type": "display_data"
    }
   ],
   "source": [
    "from pyspark.sql.functions import year, month\n",
    "\n",
    "#Extract year from period_end and save in a new column \"period_end_yr\"\n",
    "df_redfin = df_redfin.withColumn(\"period_end_yr\", year(col(\"period_end\")))\n",
    "\n",
    "#Extract month from period_end and save in a new column \"period_end_month\"\n",
    "df_redfin = df_redfin.withColumn(\"period_end_month\", month(col(\"period_end\")))"
   ]
  },
  {
   "cell_type": "code",
   "execution_count": 21,
   "metadata": {
    "execution": {
     "iopub.execute_input": "2024-09-04T18:06:57.377681Z",
     "iopub.status.busy": "2024-09-04T18:06:57.377443Z",
     "iopub.status.idle": "2024-09-04T18:06:57.624516Z",
     "shell.execute_reply": "2024-09-04T18:06:57.623734Z",
     "shell.execute_reply.started": "2024-09-04T18:06:57.377656Z"
    }
   },
   "outputs": [
    {
     "data": {
      "application/vnd.jupyter.widget-view+json": {
       "model_id": "4fcc35c433734d39971566a7a8ffc9cb",
       "version_major": 2,
       "version_minor": 0
      },
      "text/plain": [
       "VBox()"
      ]
     },
     "metadata": {},
     "output_type": "display_data"
    },
    {
     "data": {
      "application/vnd.jupyter.widget-view+json": {
       "model_id": "",
       "version_major": 2,
       "version_minor": 0
      },
      "text/plain": [
       "FloatProgress(value=0.0, bar_style='info', description='Progress:', layout=Layout(height='25px', width='50%'),…"
      ]
     },
     "metadata": {},
     "output_type": "display_data"
    }
   ],
   "source": [
    "# Drop period_end and last_updated columns\n",
    "df_redfin = df_redfin.drop(\"period_end\", \"last_updated\")"
   ]
  },
  {
   "cell_type": "code",
   "execution_count": 22,
   "metadata": {
    "execution": {
     "iopub.execute_input": "2024-09-04T18:07:02.620941Z",
     "iopub.status.busy": "2024-09-04T18:07:02.620706Z",
     "iopub.status.idle": "2024-09-04T18:07:09.894871Z",
     "shell.execute_reply": "2024-09-04T18:07:09.894132Z",
     "shell.execute_reply.started": "2024-09-04T18:07:02.620914Z"
    }
   },
   "outputs": [
    {
     "data": {
      "application/vnd.jupyter.widget-view+json": {
       "model_id": "3b8832b6dda24406bae648ef7b5025e4",
       "version_major": 2,
       "version_minor": 0
      },
      "text/plain": [
       "VBox()"
      ]
     },
     "metadata": {},
     "output_type": "display_data"
    },
    {
     "data": {
      "application/vnd.jupyter.widget-view+json": {
       "model_id": "",
       "version_major": 2,
       "version_minor": 0
      },
      "text/plain": [
       "FloatProgress(value=0.0, bar_style='info', description='Progress:', layout=Layout(height='25px', width='50%'),…"
      ]
     },
     "metadata": {},
     "output_type": "display_data"
    },
    {
     "name": "stdout",
     "output_type": "stream",
     "text": [
      "+---------------+----------+----------+--------------------+-----------------+-----------------+----------+---------+----------------+----------+---------------+-------------+----------------+\n",
      "|period_duration|      city|     state|       property_type|median_sale_price|      median_ppsf|homes_sold|inventory|months_of_supply|median_dom|sold_above_list|period_end_yr|period_end_month|\n",
      "+---------------+----------+----------+--------------------+-----------------+-----------------+----------+---------+----------------+----------+---------------+-------------+----------------+\n",
      "|             30|  Elbridge|  New York|Single Family Res...|         152000.0|96.08091024020227|         1|        4|             4.0|        10|            1.0|         2019|               7|\n",
      "|             30|    Maumee|      Ohio|Single Family Res...|          75605.0|55.33251770348885|         6|       89|            14.8|        80|            0.0|         2012|               1|\n",
      "|             30|Clear Lake|Washington|     All Residential|         205250.0|136.6287398635156|         2|        5|             2.5|       166|            0.5|         2013|              12|\n",
      "+---------------+----------+----------+--------------------+-----------------+-----------------+----------+---------+----------------+----------+---------------+-------------+----------------+\n",
      "only showing top 3 rows"
     ]
    }
   ],
   "source": [
    "df_redfin.show(3)"
   ]
  },
  {
   "cell_type": "code",
   "execution_count": 23,
   "metadata": {
    "execution": {
     "iopub.execute_input": "2024-09-04T18:09:53.278086Z",
     "iopub.status.busy": "2024-09-04T18:09:53.277823Z",
     "iopub.status.idle": "2024-09-04T18:09:53.532015Z",
     "shell.execute_reply": "2024-09-04T18:09:53.531339Z",
     "shell.execute_reply.started": "2024-09-04T18:09:53.278059Z"
    }
   },
   "outputs": [
    {
     "data": {
      "application/vnd.jupyter.widget-view+json": {
       "model_id": "d014592e240541e19732acd61909fb43",
       "version_major": 2,
       "version_minor": 0
      },
      "text/plain": [
       "VBox()"
      ]
     },
     "metadata": {},
     "output_type": "display_data"
    },
    {
     "data": {
      "application/vnd.jupyter.widget-view+json": {
       "model_id": "",
       "version_major": 2,
       "version_minor": 0
      },
      "text/plain": [
       "FloatProgress(value=0.0, bar_style='info', description='Progress:', layout=Layout(height='25px', width='50%'),…"
      ]
     },
     "metadata": {},
     "output_type": "display_data"
    }
   ],
   "source": [
    "from pyspark.sql.functions import when\n",
    "\n",
    "#let's map the month number to their respective month name.\n",
    "\n",
    "df_redfin = df_redfin.withColumn(\"period_end_month\", \n",
    "                   when(col(\"period_end_month\") == 1, \"January\")\n",
    "                   .when(col(\"period_end_month\") == 2, \"February\")\n",
    "                   .when(col(\"period_end_month\") == 3, \"March\")\n",
    "                   .when(col(\"period_end_month\") == 4, \"April\")\n",
    "                   .when(col(\"period_end_month\") == 5, \"May\")\n",
    "                   .when(col(\"period_end_month\") == 6, \"June\")\n",
    "                   .when(col(\"period_end_month\") == 7, \"July\")\n",
    "                   .when(col(\"period_end_month\") == 8, \"August\")\n",
    "                   .when(col(\"period_end_month\") == 9, \"September\")\n",
    "                   .when(col(\"period_end_month\") == 10, \"October\")\n",
    "                   .when(col(\"period_end_month\") == 11, \"November\")\n",
    "                   .when(col(\"period_end_month\") == 12, \"December\")\n",
    "                   .otherwise(\"Unknown\")\n",
    "                 )"
   ]
  },
  {
   "cell_type": "code",
   "execution_count": 24,
   "metadata": {
    "execution": {
     "iopub.execute_input": "2024-09-04T18:10:12.065270Z",
     "iopub.status.busy": "2024-09-04T18:10:12.065045Z",
     "iopub.status.idle": "2024-09-04T18:10:19.340678Z",
     "shell.execute_reply": "2024-09-04T18:10:19.339775Z",
     "shell.execute_reply.started": "2024-09-04T18:10:12.065245Z"
    }
   },
   "outputs": [
    {
     "data": {
      "application/vnd.jupyter.widget-view+json": {
       "model_id": "397b3d3d772544149d404483c946820b",
       "version_major": 2,
       "version_minor": 0
      },
      "text/plain": [
       "VBox()"
      ]
     },
     "metadata": {},
     "output_type": "display_data"
    },
    {
     "data": {
      "application/vnd.jupyter.widget-view+json": {
       "model_id": "",
       "version_major": 2,
       "version_minor": 0
      },
      "text/plain": [
       "FloatProgress(value=0.0, bar_style='info', description='Progress:', layout=Layout(height='25px', width='50%'),…"
      ]
     },
     "metadata": {},
     "output_type": "display_data"
    },
    {
     "name": "stdout",
     "output_type": "stream",
     "text": [
      "+---------------+----------+----------+--------------------+-----------------+-----------------+----------+---------+----------------+----------+---------------+-------------+----------------+\n",
      "|period_duration|      city|     state|       property_type|median_sale_price|      median_ppsf|homes_sold|inventory|months_of_supply|median_dom|sold_above_list|period_end_yr|period_end_month|\n",
      "+---------------+----------+----------+--------------------+-----------------+-----------------+----------+---------+----------------+----------+---------------+-------------+----------------+\n",
      "|             30|  Elbridge|  New York|Single Family Res...|         152000.0|96.08091024020227|         1|        4|             4.0|        10|            1.0|         2019|            July|\n",
      "|             30|    Maumee|      Ohio|Single Family Res...|          75605.0|55.33251770348885|         6|       89|            14.8|        80|            0.0|         2012|         January|\n",
      "|             30|Clear Lake|Washington|     All Residential|         205250.0|136.6287398635156|         2|        5|             2.5|       166|            0.5|         2013|        December|\n",
      "+---------------+----------+----------+--------------------+-----------------+-----------------+----------+---------+----------------+----------+---------------+-------------+----------------+\n",
      "only showing top 3 rows"
     ]
    }
   ],
   "source": [
    "df_redfin.show(3)"
   ]
  },
  {
   "cell_type": "code",
   "execution_count": 26,
   "metadata": {
    "execution": {
     "iopub.execute_input": "2024-09-04T18:10:52.392928Z",
     "iopub.status.busy": "2024-09-04T18:10:52.392694Z",
     "iopub.status.idle": "2024-09-04T18:12:01.811113Z",
     "shell.execute_reply": "2024-09-04T18:12:01.810300Z",
     "shell.execute_reply.started": "2024-09-04T18:10:52.392901Z"
    },
    "tags": []
   },
   "outputs": [
    {
     "data": {
      "application/vnd.jupyter.widget-view+json": {
       "model_id": "2188dfea2d1946679ef434781ea6826f",
       "version_major": 2,
       "version_minor": 0
      },
      "text/plain": [
       "VBox()"
      ]
     },
     "metadata": {},
     "output_type": "display_data"
    },
    {
     "data": {
      "application/vnd.jupyter.widget-view+json": {
       "model_id": "",
       "version_major": 2,
       "version_minor": 0
      },
      "text/plain": [
       "FloatProgress(value=0.0, bar_style='info', description='Progress:', layout=Layout(height='25px', width='50%'),…"
      ]
     },
     "metadata": {},
     "output_type": "display_data"
    }
   ],
   "source": [
    "#let us write the final dataframe into our s3 bucket as a parquet file.\n",
    "s3_bucket = \"s3://transformeddata-redfin/redfin_data.parquet\"\n",
    "df_redfin.write.mode(\"overwrite\").parquet(s3_bucket)"
   ]
  }
 ],
 "metadata": {
  "kernelspec": {
   "display_name": "PySpark",
   "language": "python",
   "name": "pysparkkernel"
  },
  "language_info": {
   "codemirror_mode": {
    "name": "python",
    "version": 3
   },
   "file_extension": ".py",
   "mimetype": "text/x-python",
   "name": "pyspark",
   "pygments_lexer": "python3"
  }
 },
 "nbformat": 4,
 "nbformat_minor": 4
}
