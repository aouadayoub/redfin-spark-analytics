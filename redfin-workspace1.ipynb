{
 "cells": [
  {
   "cell_type": "code",
   "execution_count": 4,
   "id": "9123025b-f9c7-4229-95e2-739fb85330c3",
   "metadata": {
    "execution": {
     "iopub.execute_input": "2024-09-04T15:49:01.524692Z",
     "iopub.status.busy": "2024-09-04T15:49:01.524464Z",
     "iopub.status.idle": "2024-09-04T15:49:01.596953Z",
     "shell.execute_reply": "2024-09-04T15:49:01.595934Z",
     "shell.execute_reply.started": "2024-09-04T15:49:01.524666Z"
    }
   },
   "outputs": [
    {
     "data": {
      "application/vnd.jupyter.widget-view+json": {
       "model_id": "1cb4a76229de4b769b24cd68c3ad0fa6",
       "version_major": 2,
       "version_minor": 0
      },
      "text/plain": [
       "VBox()"
      ]
     },
     "metadata": {},
     "output_type": "display_data"
    },
    {
     "data": {
      "application/vnd.jupyter.widget-view+json": {
       "model_id": "",
       "version_major": 2,
       "version_minor": 0
      },
      "text/plain": [
       "FloatProgress(value=0.0, bar_style='info', description='Progress:', layout=Layout(height='25px', width='50%'),…"
      ]
     },
     "metadata": {},
     "output_type": "display_data"
    }
   ],
   "source": [
    "from pyspark.sql import SparkSession\n",
    "from pyspark.sql.functions import col"
   ]
  },
  {
   "cell_type": "code",
   "execution_count": null,
   "id": "09cbc6ee-84fa-4bb5-8672-59b006a447d8",
   "metadata": {},
   "outputs": [],
   "source": [
    "%%bash\n",
    "# This is a Bash cell\n",
    "wget -O - https://redfin-public-data.s3.us-west-2.amazonaws.com/redfin_market_tracker/city_market_tracker.tsv000.gz | aws s3 cp - s3://rawdata-redfin/city_market_tracker.tsv000.gz"
   ]
  }
 ],
 "metadata": {
  "kernelspec": {
   "display_name": "PySpark",
   "language": "python",
   "name": "pysparkkernel"
  },
  "language_info": {
   "codemirror_mode": {
    "name": "python",
    "version": 3
   },
   "file_extension": ".py",
   "mimetype": "text/x-python",
   "name": "pyspark",
   "pygments_lexer": "python3"
  }
 },
 "nbformat": 4,
 "nbformat_minor": 5
}
